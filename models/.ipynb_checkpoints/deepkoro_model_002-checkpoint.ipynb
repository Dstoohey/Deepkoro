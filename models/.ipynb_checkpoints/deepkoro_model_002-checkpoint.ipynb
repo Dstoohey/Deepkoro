{
 "cells": [
  {
   "cell_type": "markdown",
   "metadata": {},
   "source": [
    "# GPT-2 | Fine-tuned on alltexts.txt using google colab's GPU's "
   ]
  },
  {
   "cell_type": "markdown",
   "metadata": {},
   "source": [
    "This model was trained using google colab's freely available GPU's. It will not run in this notebook but the output following cell 7 gives a sample of the output that was produced. Email Daniel at dstoohey@gmail.com with any questions."
   ]
  },
  {
   "cell_type": "code",
   "execution_count": 1,
   "metadata": {
    "colab": {
     "base_uri": "https://localhost:8080/",
     "height": 187
    },
    "colab_type": "code",
    "executionInfo": {
     "elapsed": 12318,
     "status": "ok",
     "timestamp": 1588884315501,
     "user": {
      "displayName": "Daniel Toohey",
      "photoUrl": "https://lh3.googleusercontent.com/a-/AOh14GhUgcgQNqD5dEC1wB37CC1-NnfMrdkW-ZCzzDCqbw=s64",
      "userId": "11059082797244114209"
     },
     "user_tz": 240
    },
    "id": "gnbk0WQxDwZp",
    "outputId": "47666b33-2730-42e3-8284-d0d213a51676",
    "scrolled": true
   },
   "outputs": [
    {
     "name": "stderr",
     "output_type": "stream",
     "text": [
      "UsageError: Line magic function `%tensorflow_version` not found.\n"
     ]
    }
   ],
   "source": [
    "%tensorflow_version 1.x\n",
    "!pip install -q gpt-2-simple\n",
    "import gpt_2_simple as gpt2\n",
    "from datetime import datetime\n",
    "from google.colab import files"
   ]
  },
  {
   "cell_type": "code",
   "execution_count": 2,
   "metadata": {
    "colab": {
     "base_uri": "https://localhost:8080/",
     "height": 51
    },
    "colab_type": "code",
    "executionInfo": {
     "elapsed": 3302,
     "status": "ok",
     "timestamp": 1588884321743,
     "user": {
      "displayName": "Daniel Toohey",
      "photoUrl": "https://lh3.googleusercontent.com/a-/AOh14GhUgcgQNqD5dEC1wB37CC1-NnfMrdkW-ZCzzDCqbw=s64",
      "userId": "11059082797244114209"
     },
     "user_tz": 240
    },
    "id": "jixm-xTqFt40",
    "outputId": "ebabc03a-d834-4a0f-d796-35cbd91276b3"
   },
   "outputs": [
    {
     "name": "stdout",
     "output_type": "stream",
     "text": [
      "NVIDIA-SMI has failed because it couldn't communicate with the NVIDIA driver. Make sure that the latest NVIDIA driver is installed and running.\n",
      "\n"
     ]
    }
   ],
   "source": [
    "!nvidia-smi"
   ]
  },
  {
   "cell_type": "code",
   "execution_count": 3,
   "metadata": {
    "colab": {
     "base_uri": "https://localhost:8080/",
     "height": 122
    },
    "colab_type": "code",
    "executionInfo": {
     "elapsed": 37171,
     "status": "ok",
     "timestamp": 1588887557620,
     "user": {
      "displayName": "Daniel Toohey",
      "photoUrl": "https://lh3.googleusercontent.com/a-/AOh14GhUgcgQNqD5dEC1wB37CC1-NnfMrdkW-ZCzzDCqbw=s64",
      "userId": "11059082797244114209"
     },
     "user_tz": 240
    },
    "id": "N-bJGGJ_Eajh",
    "outputId": "45a208d9-6015-4ac8-9540-6b55cf33f4ee",
    "scrolled": true
   },
   "outputs": [
    {
     "name": "stdout",
     "output_type": "stream",
     "text": [
      "Go to this URL in a browser: https://accounts.google.com/o/oauth2/auth?client_id=947318989803-6bn6qk8qdgf4n4g3pfee6491hc0brc4i.apps.googleusercontent.com&redirect_uri=urn%3aietf%3awg%3aoauth%3a2.0%3aoob&response_type=code&scope=email%20https%3a%2f%2fwww.googleapis.com%2fauth%2fdocs.test%20https%3a%2f%2fwww.googleapis.com%2fauth%2fdrive%20https%3a%2f%2fwww.googleapis.com%2fauth%2fdrive.photos.readonly%20https%3a%2f%2fwww.googleapis.com%2fauth%2fpeopleapi.readonly\n",
      "\n",
      "Enter your authorization code:\n",
      "··········\n",
      "Mounted at /content/drive\n"
     ]
    }
   ],
   "source": [
    "gpt2.mount_gdrive()"
   ]
  },
  {
   "cell_type": "code",
   "execution_count": 0,
   "metadata": {
    "colab": {},
    "colab_type": "code",
    "id": "A19-MXOQDycT"
   },
   "outputs": [],
   "source": [
    "gpt2.copy_checkpoint_from_gdrive(run_name='run1')"
   ]
  },
  {
   "cell_type": "code",
   "execution_count": 6,
   "metadata": {
    "colab": {
     "base_uri": "https://localhost:8080/",
     "height": 51
    },
    "colab_type": "code",
    "executionInfo": {
     "elapsed": 6405,
     "status": "ok",
     "timestamp": 1588786913000,
     "user": {
      "displayName": "Daniel Toohey",
      "photoUrl": "https://lh3.googleusercontent.com/a-/AOh14GhUgcgQNqD5dEC1wB37CC1-NnfMrdkW-ZCzzDCqbw=s64",
      "userId": "11059082797244114209"
     },
     "user_tz": 240
    },
    "id": "o1uCGs0EEZpH",
    "outputId": "88eef067-4780-404a-8fec-33933bddc8f9"
   },
   "outputs": [
    {
     "name": "stdout",
     "output_type": "stream",
     "text": [
      "Loading checkpoint checkpoint/run1/model-1000\n",
      "INFO:tensorflow:Restoring parameters from checkpoint/run1/model-1000\n"
     ]
    }
   ],
   "source": [
    "sess = gpt2.start_tf_sess()\n",
    "gpt2.load_gpt2(sess, run_name='run1')"
   ]
  },
  {
   "cell_type": "code",
   "execution_count": 7,
   "metadata": {
    "colab": {
     "base_uri": "https://localhost:8080/",
     "height": 1000
    },
    "colab_type": "code",
    "executionInfo": {
     "elapsed": 88785,
     "status": "ok",
     "timestamp": 1588787051438,
     "user": {
      "displayName": "Daniel Toohey",
      "photoUrl": "https://lh3.googleusercontent.com/a-/AOh14GhUgcgQNqD5dEC1wB37CC1-NnfMrdkW-ZCzzDCqbw=s64",
      "userId": "11059082797244114209"
     },
     "user_tz": 240
    },
    "id": "zUnEbM9BFHxQ",
    "outputId": "a9e2e09b-0ee2-4566-eb2b-96b8b58e1c25"
   },
   "outputs": [
    {
     "name": "stdout",
     "output_type": "stream",
     "text": [
      "a righteous judgment, and a righteous judgment\n",
      "that is for ever and ever.\n",
      "\n",
      "\n",
      "\n",
      "\n",
      "The Second Book of the Book of the Book of the Prophet\n",
      "\n",
      "\n",
      "1:7 The words of Hamath, a man of Habor, the chief of the\n",
      "household of the Prophet, which had borne the burden, and the bed of\n",
      "the rest, and the praise of God toward him: 1:8 With whom he had\n",
      "delighted: he was a goodly man, and had compassion on his household:\n",
      "1:9 But he had no right to desire burdens: therefore he came unto\n",
      "Habor, and said unto him, 2:1 Let my lord be content, and let me not,\n",
      "that is, make at my house a continual labour, which I should not\n",
      "have done.\n",
      "\n",
      "2:2 And it shall come to pass, that when she saw Hamath and his household,\n",
      "then she went out to meet them, and set shew them her armour.\n",
      "\n",
      "2:3 And Hamath said, The LORD hath delivered me into the hands of my\n",
      "father, and I am delivered into his hand: let me therefore be\n",
      "not content with this, which is my labour.\n",
      "\n",
      "2:4 And Hamath said to his father, The LORD hath delivered me into\n",
      "his hand, and I am delivered into his hand.\n",
      "\n",
      "2:5 And Hamath said, The Lord of the whole earth delivereth me into\n",
      "his hand, and I am delivered into his hand: let me therefore be\n",
      "not content with this, which is my labour.\n",
      "\n",
      "2:6 And Hamath said, The LORD delivereth me into his hand, and I am\n",
      "delivered into his hand: let me therefore be not content with this,\n",
      "which is my labour.\n",
      "\n",
      "2:7 And Hamath said, The LORD delivereth me into his hand, and I am\n",
      "delivered into his hand: let me therefore be not content with this, which\n",
      "is my labour.\n",
      "\n",
      "2:8 And Hamath said, The LORD delivereth me into his hand, and I am\n",
      "delivered into his hand; let me therefore be not content with this, which\n",
      "is my labour.\n",
      "\n",
      "2:9 And Hamath said, The LORD delivereth me into his hand, and I am\n",
      "delivered into his hand; let me therefore be not content with this, which\n",
      "is my labour.\n",
      "\n",
      "2:10 And Hamath said, The LORD delivereth me into his hand, and I\n",
      "be delivered into his hand: let me therefore be not content with this, which\n",
      "is my labour.\n",
      "\n",
      "2:11 And Hamath said, The LORD delivereth me into his hand, and I\n",
      "be delivered into his hand: let me therefore be not content with this, which\n",
      "is my labour.\n",
      "\n",
      "2:12 And Hamath said, The LORD deliver me into his hand, and I be\n",
      "delivered into his hand: let me therefore be not content with this, which is\n",
      "my labour.\n",
      "\n",
      "2:13 And Hamath said, The LORD deliver me into his hand, and I be\n",
      "delivered into his hand; let me therefore be not content with this, which\n",
      "is my labour.\n",
      "\n",
      "2:14 And Hamath said, The LORD deliver me into his hand, and I be\n",
      "delivered into his hand: let me therefore be not content with this, which\n",
      "is my labour.\n",
      "\n",
      "2:15 And Hamath said, The LORD deliver me into his hand, and I be\n",
      "delivered into his hand: let me therefore be not content with this, which is\n",
      "my labour.\n",
      "\n",
      "2:16 And Hamath said, The LORD deliver me into his hand, and I be\n",
      "delivered into his hand: let me therefore be not content with this, which is\n",
      "my labour.\n",
      "\n",
      "2:17 And Hamath said, The LORD deliver me into his hand, and I be\n",
      "delivered into his hand: let me therefore be content with this, which is my\n",
      "labour.\n",
      "\n",
      "2:18 And Hamath said, The LORD deliver me into my hand, and I be\n",
      "delivered into his hand: let me therefore be not content with this, which is\n",
      "my labour.\n",
      "\n",
      "2:19 And Hamath said, The LORD deliver me into my hand, and I be\n",
      "delivered into his hand: let me therefore be not content with this, which is my\n",
      "labour.\n",
      "\n",
      "2:20 And Hamath said, The LORD deliver me into my hand, and I be\n",
      "delivered into his hand: let me therefore be not content with this, which is\n",
      "my labour.\n",
      "\n",
      "2:21 And Hamath said, The LORD deliver me into my hand, and I be\n",
      "delivered into his hand: let me therefore be not content with this, which is\n",
      "my labour.\n"
     ]
    }
   ],
   "source": [
    "#generating original text\n",
    "gpt2.generate(sess, run_name='run1')"
   ]
  }
 ],
 "metadata": {
  "colab": {
   "authorship_tag": "ABX9TyNPHSEBV1eJrGOSJN/hXaXT",
   "name": "deepkoro_model_002.ipynb",
   "provenance": []
  },
  "kernelspec": {
   "display_name": "Python 3",
   "language": "python",
   "name": "python3"
  },
  "language_info": {
   "codemirror_mode": {
    "name": "ipython",
    "version": 3
   },
   "file_extension": ".py",
   "mimetype": "text/x-python",
   "name": "python",
   "nbconvert_exporter": "python",
   "pygments_lexer": "ipython3",
   "version": "3.6.9"
  }
 },
 "nbformat": 4,
 "nbformat_minor": 1
}
